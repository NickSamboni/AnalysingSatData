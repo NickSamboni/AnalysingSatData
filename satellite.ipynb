{
 "cells": [
  {
   "cell_type": "markdown",
   "metadata": {},
   "source": [
    "Nicolas Ramos Samboni - Big Data 2021/2022\n",
    "Evaluación por pares Módulo 3: “Big Data y Geospatial Data Science”"
   ]
  },
  {
   "cell_type": "code",
   "execution_count": 2,
   "metadata": {},
   "outputs": [],
   "source": [
    "#import the needed pckg\n",
    "%matplotlib inline\n",
    "\n",
    "import pandas as pd\n",
    "import numpy as np\n",
    "import matplotlib.pyplot as plt"
   ]
  },
  {
   "cell_type": "code",
   "execution_count": 3,
   "metadata": {},
   "outputs": [
    {
     "data": {
      "text/html": [
       "<div>\n",
       "<style scoped>\n",
       "    .dataframe tbody tr th:only-of-type {\n",
       "        vertical-align: middle;\n",
       "    }\n",
       "\n",
       "    .dataframe tbody tr th {\n",
       "        vertical-align: top;\n",
       "    }\n",
       "\n",
       "    .dataframe thead th {\n",
       "        text-align: right;\n",
       "    }\n",
       "</style>\n",
       "<table border=\"1\" class=\"dataframe\">\n",
       "  <thead>\n",
       "    <tr style=\"text-align: right;\">\n",
       "      <th></th>\n",
       "      <th>Official Name of Satellite</th>\n",
       "      <th>Country/Organization of UN Registry</th>\n",
       "      <th>Operator/Owner</th>\n",
       "      <th>Country of Operator/Owner</th>\n",
       "      <th>Users</th>\n",
       "      <th>Purpose</th>\n",
       "      <th>Detailed Purpose</th>\n",
       "      <th>Class of Orbit</th>\n",
       "      <th>Type of Orbit</th>\n",
       "      <th>Longitude of Geosynchronous Orbit (Degrees)</th>\n",
       "      <th>...</th>\n",
       "      <th>Dry Mass (Kilograms)</th>\n",
       "      <th>Power (Watts)</th>\n",
       "      <th>Date of Launch</th>\n",
       "      <th>Expected Lifetime (Years)</th>\n",
       "      <th>Contractor</th>\n",
       "      <th>Country of Contractor</th>\n",
       "      <th>Launch Site</th>\n",
       "      <th>Launch Vehicle</th>\n",
       "      <th>COSPAR Number</th>\n",
       "      <th>NORAD Number</th>\n",
       "    </tr>\n",
       "  </thead>\n",
       "  <tbody>\n",
       "    <tr>\n",
       "      <th>0</th>\n",
       "      <td>AAUSat-4</td>\n",
       "      <td>NR</td>\n",
       "      <td>University of Aalborg</td>\n",
       "      <td>Denmark</td>\n",
       "      <td>Civil</td>\n",
       "      <td>Earth Observation</td>\n",
       "      <td>Automatic Identification System (AIS)</td>\n",
       "      <td>LEO</td>\n",
       "      <td>Sun-Synchronous</td>\n",
       "      <td>0.0</td>\n",
       "      <td>...</td>\n",
       "      <td>NaN</td>\n",
       "      <td>NaN</td>\n",
       "      <td>4/25/2016</td>\n",
       "      <td>NaN</td>\n",
       "      <td>University of Aalborg</td>\n",
       "      <td>Denmark</td>\n",
       "      <td>Guiana Space Center</td>\n",
       "      <td>Soyuz 2.1a</td>\n",
       "      <td>2016-025E</td>\n",
       "      <td>41460.0</td>\n",
       "    </tr>\n",
       "    <tr>\n",
       "      <th>1</th>\n",
       "      <td>ABS-2</td>\n",
       "      <td>NR</td>\n",
       "      <td>Asia Broadcast Satellite Ltd.</td>\n",
       "      <td>Multinational</td>\n",
       "      <td>Commercial</td>\n",
       "      <td>Communications</td>\n",
       "      <td>NaN</td>\n",
       "      <td>GEO</td>\n",
       "      <td>NaN</td>\n",
       "      <td>75.0</td>\n",
       "      <td>...</td>\n",
       "      <td>NaN</td>\n",
       "      <td>16000</td>\n",
       "      <td>2/6/2014</td>\n",
       "      <td>15</td>\n",
       "      <td>Space Systems/Loral</td>\n",
       "      <td>USA</td>\n",
       "      <td>Guiana Space Center</td>\n",
       "      <td>Ariane  5 ECA</td>\n",
       "      <td>2014-006A</td>\n",
       "      <td>39508.0</td>\n",
       "    </tr>\n",
       "    <tr>\n",
       "      <th>2</th>\n",
       "      <td>ABS-2A</td>\n",
       "      <td>NR</td>\n",
       "      <td>Asia Broadcast Satellite Ltd.</td>\n",
       "      <td>Multinational</td>\n",
       "      <td>Commercial</td>\n",
       "      <td>Communications</td>\n",
       "      <td>NaN</td>\n",
       "      <td>GEO</td>\n",
       "      <td>NaN</td>\n",
       "      <td>-75.0</td>\n",
       "      <td>...</td>\n",
       "      <td>NaN</td>\n",
       "      <td>NaN</td>\n",
       "      <td>6/15/2016</td>\n",
       "      <td>15</td>\n",
       "      <td>Boeing Satellite Systems</td>\n",
       "      <td>USA</td>\n",
       "      <td>Cape Canaveral</td>\n",
       "      <td>Falcon 9</td>\n",
       "      <td>2016-038A</td>\n",
       "      <td>41588.0</td>\n",
       "    </tr>\n",
       "  </tbody>\n",
       "</table>\n",
       "<p>3 rows × 26 columns</p>\n",
       "</div>"
      ],
      "text/plain": [
       "  Official Name of Satellite Country/Organization of UN Registry  \\\n",
       "0                   AAUSat-4                                  NR   \n",
       "1                      ABS-2                                  NR   \n",
       "2                     ABS-2A                                  NR   \n",
       "\n",
       "                  Operator/Owner Country of Operator/Owner       Users  \\\n",
       "0          University of Aalborg                   Denmark       Civil   \n",
       "1  Asia Broadcast Satellite Ltd.             Multinational  Commercial   \n",
       "2  Asia Broadcast Satellite Ltd.             Multinational  Commercial   \n",
       "\n",
       "             Purpose                       Detailed Purpose Class of Orbit  \\\n",
       "0  Earth Observation  Automatic Identification System (AIS)            LEO   \n",
       "1     Communications                                    NaN            GEO   \n",
       "2     Communications                                    NaN            GEO   \n",
       "\n",
       "     Type of Orbit  Longitude of Geosynchronous Orbit (Degrees)  ...  \\\n",
       "0  Sun-Synchronous                                          0.0  ...   \n",
       "1              NaN                                         75.0  ...   \n",
       "2              NaN                                        -75.0  ...   \n",
       "\n",
       "   Dry Mass (Kilograms)  Power (Watts)  Date of Launch  \\\n",
       "0                   NaN            NaN       4/25/2016   \n",
       "1                   NaN          16000        2/6/2014   \n",
       "2                   NaN            NaN       6/15/2016   \n",
       "\n",
       "   Expected Lifetime (Years)                Contractor Country of Contractor  \\\n",
       "0                        NaN     University of Aalborg               Denmark   \n",
       "1                         15       Space Systems/Loral                   USA   \n",
       "2                         15  Boeing Satellite Systems                   USA   \n",
       "\n",
       "           Launch Site Launch Vehicle COSPAR Number NORAD Number  \n",
       "0  Guiana Space Center     Soyuz 2.1a     2016-025E      41460.0  \n",
       "1  Guiana Space Center  Ariane  5 ECA     2014-006A      39508.0  \n",
       "2       Cape Canaveral       Falcon 9     2016-038A      41588.0  \n",
       "\n",
       "[3 rows x 26 columns]"
      ]
     },
     "execution_count": 3,
     "metadata": {},
     "output_type": "execute_result"
    }
   ],
   "source": [
    "satelites_data = pd.read_csv('satelliteDB.csv')\n",
    "df = pd.DataFrame(satelites_data)\n",
    "df.head(3)"
   ]
  },
  {
   "cell_type": "code",
   "execution_count": 4,
   "metadata": {},
   "outputs": [
    {
     "data": {
      "text/plain": [
       "Official Name of Satellite                      object\n",
       "Country/Organization of UN Registry             object\n",
       "Operator/Owner                                  object\n",
       "Country of Operator/Owner                       object\n",
       "Users                                           object\n",
       "Purpose                                         object\n",
       "Detailed Purpose                                object\n",
       "Class of Orbit                                  object\n",
       "Type of Orbit                                   object\n",
       "Longitude of Geosynchronous Orbit (Degrees)    float64\n",
       "Perigee (Kilometers)                           float64\n",
       "Apogee (Kilometers)                            float64\n",
       "Eccentricity                                   float64\n",
       "Inclination (Degrees)                          float64\n",
       "Period (Minutes)                                object\n",
       "Launch Mass (Kilograms)                         object\n",
       "Dry Mass (Kilograms)                            object\n",
       "Power (Watts)                                   object\n",
       "Date of Launch                                  object\n",
       "Expected Lifetime (Years)                       object\n",
       "Contractor                                      object\n",
       "Country of Contractor                           object\n",
       "Launch Site                                     object\n",
       "Launch Vehicle                                  object\n",
       "COSPAR Number                                   object\n",
       "NORAD Number                                   float64\n",
       "dtype: object"
      ]
     },
     "execution_count": 4,
     "metadata": {},
     "output_type": "execute_result"
    }
   ],
   "source": [
    "df.dtypes\n",
    "#all the data is ready to work since it is in the correct type for operations"
   ]
  },
  {
   "cell_type": "code",
   "execution_count": 103,
   "metadata": {},
   "outputs": [
    {
     "data": {
      "text/plain": [
       "Official Name of Satellite                        0\n",
       "Country/Organization of UN Registry               0\n",
       "Operator/Owner                                    1\n",
       "Country of Operator/Owner                         0\n",
       "Users                                             1\n",
       "Purpose                                           1\n",
       "Detailed Purpose                               1051\n",
       "Class of Orbit                                    1\n",
       "Type of Orbit                                   521\n",
       "Longitude of Geosynchronous Orbit (Degrees)      18\n",
       "Perigee (Kilometers)                              1\n",
       "Apogee (Kilometers)                               1\n",
       "Eccentricity                                      1\n",
       "Inclination (Degrees)                             1\n",
       "Period (Minutes)                                  3\n",
       "Launch Mass (Kilograms)                         103\n",
       "Dry Mass (Kilograms)                            947\n",
       "Power (Watts)                                   771\n",
       "Date of Launch                                    4\n",
       "Expected Lifetime (Years)                       444\n",
       "Contractor                                        1\n",
       "Country of Contractor                             1\n",
       "Launch Site                                       1\n",
       "Launch Vehicle                                    1\n",
       "COSPAR Number                                     1\n",
       "NORAD Number                                      1\n",
       "year of launch                                    4\n",
       "dtype: int64"
      ]
     },
     "execution_count": 103,
     "metadata": {},
     "output_type": "execute_result"
    }
   ],
   "source": [
    "#consider that we could have null obj in the df\n",
    "df.isnull().sum()\n",
    "#in case of working with one of them, remove it or generate missing value"
   ]
  },
  {
   "cell_type": "code",
   "execution_count": 22,
   "metadata": {},
   "outputs": [
    {
     "data": {
      "text/plain": [
       "<AxesSubplot:title={'center':'Number of satellites per country'}, ylabel='Country'>"
      ]
     },
     "execution_count": 22,
     "metadata": {},
     "output_type": "execute_result"
    },
    {
     "data": {
      "image/png": "[encoded data removed]",
      "text/plain": [
       "<Figure size 720x720 with 1 Axes>"
      ]
     },
     "metadata": {
      "needs_background": "light"
     },
     "output_type": "display_data"
    }
   ],
   "source": [
    "group_satname = df.groupby('Country/Organization of UN Registry') #group by the country owner\n",
    "SatperCoun = group_satname.agg({'Official Name of Satellite':'nunique'}) #every country has its own counter of unique values\n",
    "y = SatperCoun['Official Name of Satellite']\n",
    "y = pd.DataFrame(y) #df with the number of sat and a index of every country\n",
    "\n",
    "y.plot(kind='barh',\n",
    "        title='Number of satellites per country',\n",
    "        figsize=(10,10),\n",
    "        legend=None,\n",
    "        xlabel='Country')"
   ]
  },
  {
   "cell_type": "markdown",
   "metadata": {},
   "source": [
    "posibles analisis?\n",
    "numero de sats per Country of Operator/Owner\n",
    "comparar Country/Organization of UN Registry || Country of Operator/Owner\n",
    "lanzamientos por año\n",
    "sat con mayor y menos potencia\n",
    "lazamientos por año segun el proposito"
   ]
  },
  {
   "cell_type": "code",
   "execution_count": 102,
   "metadata": {},
   "outputs": [
    {
     "data": {
      "text/plain": [
       "<AxesSubplot:title={'center':'Number of sats'}, xlabel='year of launch', ylabel='Number lauched'>"
      ]
     },
     "execution_count": 102,
     "metadata": {},
     "output_type": "execute_result"
    },
    {
     "data": {
      "image/png": "[encoded data removed]",
      "text/plain": [
       "<Figure size 432x288 with 1 Axes>"
      ]
     },
     "metadata": {
      "needs_background": "light"
     },
     "output_type": "display_data"
    }
   ],
   "source": [
    "#we need to change the date type and work only with year\n",
    "new_column = []\n",
    "for i in df['Date of Launch']:\n",
    "    time = pd.to_datetime(i).year\n",
    "    new_column.append(time)\n",
    "df['year of launch'] = new_column #now we have the year in a separate column\n",
    "\n",
    "#group by year and then plot number of sats\n",
    "group_byear = df.groupby('year of launch')\n",
    "sat_year = group_byear.agg({'Country of Operator/Owner':'nunique'}) #every country has its own counter of unique values\n",
    "sat_year['Country of Operator/Owner'].plot(kind='line',title='Number of sats',ylabel='Number lauched',color='r')\n"
   ]
  },
  {
   "cell_type": "code",
   "execution_count": null,
   "metadata": {},
   "outputs": [],
   "source": []
  }
 ],
 "metadata": {
  "interpreter": {
   "hash": "aee8b7b246df8f9039afb4144a1f6fd8d2ca17a180786b69acc140d282b71a49"
  },
  "kernelspec": {
   "display_name": "Python 3.9.7 64-bit",
   "language": "python",
   "name": "python3"
  },
  "language_info": {
   "codemirror_mode": {
    "name": "ipython",
    "version": 3
   },
   "file_extension": ".py",
   "mimetype": "text/x-python",
   "name": "python",
   "nbconvert_exporter": "python",
   "pygments_lexer": "ipython3",
   "version": "3.9.7"
  },
  "orig_nbformat": 4
 },
 "nbformat": 4,
 "nbformat_minor": 2
}
