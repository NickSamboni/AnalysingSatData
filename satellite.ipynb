{
 "cells": [
  {
   "cell_type": "markdown",
   "metadata": {},
   "source": [
    "# Nicolas Ramos Samboni - Big Data 2021/2022\n",
    "### Evaluación por pares Módulo 3: “Big Data y Geospatial Data Science”"
   ]
  },
  {
   "cell_type": "code",
   "execution_count": 77,
   "metadata": {},
   "outputs": [],
   "source": [
    "#import the needed pckg\n",
    "%matplotlib inline\n",
    "\n",
    "import pandas as pd\n",
    "import numpy as np\n",
    "import matplotlib.pyplot as plt\n",
    "import seaborn as sns"
   ]
  },
  {
   "cell_type": "markdown",
   "metadata": {},
   "source": [
    "## Getting to know the data"
   ]
  },
  {
   "cell_type": "code",
   "execution_count": 92,
   "metadata": {},
   "outputs": [
    {
     "data": {
      "text/html": [
       "<div>\n",
       "<style scoped>\n",
       "    .dataframe tbody tr th:only-of-type {\n",
       "        vertical-align: middle;\n",
       "    }\n",
       "\n",
       "    .dataframe tbody tr th {\n",
       "        vertical-align: top;\n",
       "    }\n",
       "\n",
       "    .dataframe thead th {\n",
       "        text-align: right;\n",
       "    }\n",
       "</style>\n",
       "<table border=\"1\" class=\"dataframe\">\n",
       "  <thead>\n",
       "    <tr style=\"text-align: right;\">\n",
       "      <th></th>\n",
       "      <th>0</th>\n",
       "      <th>1</th>\n",
       "      <th>2</th>\n",
       "    </tr>\n",
       "  </thead>\n",
       "  <tbody>\n",
       "    <tr>\n",
       "      <th>Official Name of Satellite</th>\n",
       "      <td>AAUSat-4</td>\n",
       "      <td>ABS-2</td>\n",
       "      <td>ABS-2A</td>\n",
       "    </tr>\n",
       "    <tr>\n",
       "      <th>Country/Organization of UN Registry</th>\n",
       "      <td>NR</td>\n",
       "      <td>NR</td>\n",
       "      <td>NR</td>\n",
       "    </tr>\n",
       "    <tr>\n",
       "      <th>Operator/Owner</th>\n",
       "      <td>University of Aalborg</td>\n",
       "      <td>Asia Broadcast Satellite Ltd.</td>\n",
       "      <td>Asia Broadcast Satellite Ltd.</td>\n",
       "    </tr>\n",
       "    <tr>\n",
       "      <th>Country of Operator/Owner</th>\n",
       "      <td>Denmark</td>\n",
       "      <td>Multinational</td>\n",
       "      <td>Multinational</td>\n",
       "    </tr>\n",
       "    <tr>\n",
       "      <th>Users</th>\n",
       "      <td>Civil</td>\n",
       "      <td>Commercial</td>\n",
       "      <td>Commercial</td>\n",
       "    </tr>\n",
       "    <tr>\n",
       "      <th>Purpose</th>\n",
       "      <td>Earth Observation</td>\n",
       "      <td>Communications</td>\n",
       "      <td>Communications</td>\n",
       "    </tr>\n",
       "    <tr>\n",
       "      <th>Detailed Purpose</th>\n",
       "      <td>Automatic Identification System (AIS)</td>\n",
       "      <td>NaN</td>\n",
       "      <td>NaN</td>\n",
       "    </tr>\n",
       "    <tr>\n",
       "      <th>Class of Orbit</th>\n",
       "      <td>LEO</td>\n",
       "      <td>GEO</td>\n",
       "      <td>GEO</td>\n",
       "    </tr>\n",
       "    <tr>\n",
       "      <th>Type of Orbit</th>\n",
       "      <td>Sun-Synchronous</td>\n",
       "      <td>NaN</td>\n",
       "      <td>NaN</td>\n",
       "    </tr>\n",
       "    <tr>\n",
       "      <th>Longitude of Geosynchronous Orbit (Degrees)</th>\n",
       "      <td>0.0</td>\n",
       "      <td>75.0</td>\n",
       "      <td>-75.0</td>\n",
       "    </tr>\n",
       "    <tr>\n",
       "      <th>Perigee (Kilometers)</th>\n",
       "      <td>442.0</td>\n",
       "      <td>35778.0</td>\n",
       "      <td>35700.0</td>\n",
       "    </tr>\n",
       "    <tr>\n",
       "      <th>Apogee (Kilometers)</th>\n",
       "      <td>687.0</td>\n",
       "      <td>35793.0</td>\n",
       "      <td>35700.0</td>\n",
       "    </tr>\n",
       "    <tr>\n",
       "      <th>Eccentricity</th>\n",
       "      <td>0.0177</td>\n",
       "      <td>0.000178</td>\n",
       "      <td>0.0</td>\n",
       "    </tr>\n",
       "    <tr>\n",
       "      <th>Inclination (Degrees)</th>\n",
       "      <td>98.2</td>\n",
       "      <td>0.08</td>\n",
       "      <td>0.0</td>\n",
       "    </tr>\n",
       "    <tr>\n",
       "      <th>Period (Minutes)</th>\n",
       "      <td>95.9</td>\n",
       "      <td>1436.03</td>\n",
       "      <td>1436.1</td>\n",
       "    </tr>\n",
       "    <tr>\n",
       "      <th>Launch Mass (Kilograms)</th>\n",
       "      <td>1</td>\n",
       "      <td>6330</td>\n",
       "      <td>1800</td>\n",
       "    </tr>\n",
       "    <tr>\n",
       "      <th>Dry Mass (Kilograms)</th>\n",
       "      <td>NaN</td>\n",
       "      <td>NaN</td>\n",
       "      <td>NaN</td>\n",
       "    </tr>\n",
       "    <tr>\n",
       "      <th>Power (Watts)</th>\n",
       "      <td>NaN</td>\n",
       "      <td>16000</td>\n",
       "      <td>NaN</td>\n",
       "    </tr>\n",
       "    <tr>\n",
       "      <th>Date of Launch</th>\n",
       "      <td>4/25/2016</td>\n",
       "      <td>2/6/2014</td>\n",
       "      <td>6/15/2016</td>\n",
       "    </tr>\n",
       "    <tr>\n",
       "      <th>Expected Lifetime (Years)</th>\n",
       "      <td>NaN</td>\n",
       "      <td>15</td>\n",
       "      <td>15</td>\n",
       "    </tr>\n",
       "    <tr>\n",
       "      <th>Contractor</th>\n",
       "      <td>University of Aalborg</td>\n",
       "      <td>Space Systems/Loral</td>\n",
       "      <td>Boeing Satellite Systems</td>\n",
       "    </tr>\n",
       "    <tr>\n",
       "      <th>Country of Contractor</th>\n",
       "      <td>Denmark</td>\n",
       "      <td>USA</td>\n",
       "      <td>USA</td>\n",
       "    </tr>\n",
       "    <tr>\n",
       "      <th>Launch Site</th>\n",
       "      <td>Guiana Space Center</td>\n",
       "      <td>Guiana Space Center</td>\n",
       "      <td>Cape Canaveral</td>\n",
       "    </tr>\n",
       "    <tr>\n",
       "      <th>Launch Vehicle</th>\n",
       "      <td>Soyuz 2.1a</td>\n",
       "      <td>Ariane  5 ECA</td>\n",
       "      <td>Falcon 9</td>\n",
       "    </tr>\n",
       "    <tr>\n",
       "      <th>COSPAR Number</th>\n",
       "      <td>2016-025E</td>\n",
       "      <td>2014-006A</td>\n",
       "      <td>2016-038A</td>\n",
       "    </tr>\n",
       "    <tr>\n",
       "      <th>NORAD Number</th>\n",
       "      <td>41460.0</td>\n",
       "      <td>39508.0</td>\n",
       "      <td>41588.0</td>\n",
       "    </tr>\n",
       "  </tbody>\n",
       "</table>\n",
       "</div>"
      ],
      "text/plain": [
       "                                                                                 0  \\\n",
       "Official Name of Satellite                                                AAUSat-4   \n",
       "Country/Organization of UN Registry                                             NR   \n",
       "Operator/Owner                                               University of Aalborg   \n",
       "Country of Operator/Owner                                                  Denmark   \n",
       "Users                                                                        Civil   \n",
       "Purpose                                                          Earth Observation   \n",
       "Detailed Purpose                             Automatic Identification System (AIS)   \n",
       "Class of Orbit                                                                 LEO   \n",
       "Type of Orbit                                                      Sun-Synchronous   \n",
       "Longitude of Geosynchronous Orbit (Degrees)                                    0.0   \n",
       "Perigee (Kilometers)                                                         442.0   \n",
       "Apogee (Kilometers)                                                          687.0   \n",
       "Eccentricity                                                                0.0177   \n",
       "Inclination (Degrees)                                                         98.2   \n",
       "Period (Minutes)                                                              95.9   \n",
       "Launch Mass (Kilograms)                                                          1   \n",
       "Dry Mass (Kilograms)                                                           NaN   \n",
       "Power (Watts)                                                                  NaN   \n",
       "Date of Launch                                                           4/25/2016   \n",
       "Expected Lifetime (Years)                                                      NaN   \n",
       "Contractor                                                   University of Aalborg   \n",
       "Country of Contractor                                                      Denmark   \n",
       "Launch Site                                                    Guiana Space Center   \n",
       "Launch Vehicle                                                          Soyuz 2.1a   \n",
       "COSPAR Number                                                            2016-025E   \n",
       "NORAD Number                                                               41460.0   \n",
       "\n",
       "                                                                         1  \\\n",
       "Official Name of Satellite                                           ABS-2   \n",
       "Country/Organization of UN Registry                                     NR   \n",
       "Operator/Owner                               Asia Broadcast Satellite Ltd.   \n",
       "Country of Operator/Owner                                    Multinational   \n",
       "Users                                                           Commercial   \n",
       "Purpose                                                     Communications   \n",
       "Detailed Purpose                                                       NaN   \n",
       "Class of Orbit                                                         GEO   \n",
       "Type of Orbit                                                          NaN   \n",
       "Longitude of Geosynchronous Orbit (Degrees)                           75.0   \n",
       "Perigee (Kilometers)                                               35778.0   \n",
       "Apogee (Kilometers)                                                35793.0   \n",
       "Eccentricity                                                      0.000178   \n",
       "Inclination (Degrees)                                                 0.08   \n",
       "Period (Minutes)                                                   1436.03   \n",
       "Launch Mass (Kilograms)                                               6330   \n",
       "Dry Mass (Kilograms)                                                   NaN   \n",
       "Power (Watts)                                                        16000   \n",
       "Date of Launch                                                    2/6/2014   \n",
       "Expected Lifetime (Years)                                               15   \n",
       "Contractor                                             Space Systems/Loral   \n",
       "Country of Contractor                                                  USA   \n",
       "Launch Site                                            Guiana Space Center   \n",
       "Launch Vehicle                                               Ariane  5 ECA   \n",
       "COSPAR Number                                                    2014-006A   \n",
       "NORAD Number                                                       39508.0   \n",
       "\n",
       "                                                                         2  \n",
       "Official Name of Satellite                                          ABS-2A  \n",
       "Country/Organization of UN Registry                                     NR  \n",
       "Operator/Owner                               Asia Broadcast Satellite Ltd.  \n",
       "Country of Operator/Owner                                    Multinational  \n",
       "Users                                                           Commercial  \n",
       "Purpose                                                     Communications  \n",
       "Detailed Purpose                                                       NaN  \n",
       "Class of Orbit                                                         GEO  \n",
       "Type of Orbit                                                          NaN  \n",
       "Longitude of Geosynchronous Orbit (Degrees)                          -75.0  \n",
       "Perigee (Kilometers)                                               35700.0  \n",
       "Apogee (Kilometers)                                                35700.0  \n",
       "Eccentricity                                                           0.0  \n",
       "Inclination (Degrees)                                                  0.0  \n",
       "Period (Minutes)                                                    1436.1  \n",
       "Launch Mass (Kilograms)                                               1800  \n",
       "Dry Mass (Kilograms)                                                   NaN  \n",
       "Power (Watts)                                                          NaN  \n",
       "Date of Launch                                                   6/15/2016  \n",
       "Expected Lifetime (Years)                                               15  \n",
       "Contractor                                        Boeing Satellite Systems  \n",
       "Country of Contractor                                                  USA  \n",
       "Launch Site                                                 Cape Canaveral  \n",
       "Launch Vehicle                                                    Falcon 9  \n",
       "COSPAR Number                                                    2016-038A  \n",
       "NORAD Number                                                       41588.0  "
      ]
     },
     "execution_count": 92,
     "metadata": {},
     "output_type": "execute_result"
    }
   ],
   "source": [
    "satelites_data = pd.read_csv('satelliteDB.csv')\n",
    "df = pd.DataFrame(satelites_data)\n",
    "df.head(3).T "
   ]
  },
  {
   "cell_type": "code",
   "execution_count": 79,
   "metadata": {},
   "outputs": [
    {
     "data": {
      "text/plain": [
       "Official Name of Satellite                      object\n",
       "Country/Organization of UN Registry             object\n",
       "Operator/Owner                                  object\n",
       "Country of Operator/Owner                       object\n",
       "Users                                           object\n",
       "Purpose                                         object\n",
       "Detailed Purpose                                object\n",
       "Class of Orbit                                  object\n",
       "Type of Orbit                                   object\n",
       "Longitude of Geosynchronous Orbit (Degrees)    float64\n",
       "Perigee (Kilometers)                           float64\n",
       "Apogee (Kilometers)                            float64\n",
       "Eccentricity                                   float64\n",
       "Inclination (Degrees)                          float64\n",
       "Period (Minutes)                                object\n",
       "Launch Mass (Kilograms)                         object\n",
       "Dry Mass (Kilograms)                            object\n",
       "Power (Watts)                                   object\n",
       "Date of Launch                                  object\n",
       "Expected Lifetime (Years)                       object\n",
       "Contractor                                      object\n",
       "Country of Contractor                           object\n",
       "Launch Site                                     object\n",
       "Launch Vehicle                                  object\n",
       "COSPAR Number                                   object\n",
       "NORAD Number                                   float64\n",
       "dtype: object"
      ]
     },
     "execution_count": 79,
     "metadata": {},
     "output_type": "execute_result"
    }
   ],
   "source": [
    "df.dtypes\n",
    "#all the data is ready to work since it is in the correct type for operations"
   ]
  },
  {
   "cell_type": "code",
   "execution_count": 80,
   "metadata": {},
   "outputs": [
    {
     "data": {
      "text/plain": [
       "Official Name of Satellite                        0\n",
       "Country/Organization of UN Registry               0\n",
       "Operator/Owner                                    1\n",
       "Country of Operator/Owner                         0\n",
       "Users                                             1\n",
       "Purpose                                           1\n",
       "Detailed Purpose                               1051\n",
       "Class of Orbit                                    1\n",
       "Type of Orbit                                   521\n",
       "Longitude of Geosynchronous Orbit (Degrees)      18\n",
       "Perigee (Kilometers)                              1\n",
       "Apogee (Kilometers)                               1\n",
       "Eccentricity                                      1\n",
       "Inclination (Degrees)                             1\n",
       "Period (Minutes)                                  3\n",
       "Launch Mass (Kilograms)                         103\n",
       "Dry Mass (Kilograms)                            947\n",
       "Power (Watts)                                   771\n",
       "Date of Launch                                    4\n",
       "Expected Lifetime (Years)                       444\n",
       "Contractor                                        1\n",
       "Country of Contractor                             1\n",
       "Launch Site                                       1\n",
       "Launch Vehicle                                    1\n",
       "COSPAR Number                                     1\n",
       "NORAD Number                                      1\n",
       "dtype: int64"
      ]
     },
     "execution_count": 80,
     "metadata": {},
     "output_type": "execute_result"
    }
   ],
   "source": [
    "#consider that we could have null obj in the df\n",
    "df.isnull().sum()\n",
    "#in case of working with one of them, remove it or generate missing value"
   ]
  },
  {
   "cell_type": "code",
   "execution_count": 94,
   "metadata": {},
   "outputs": [
    {
     "data": {
      "text/html": [
       "<div>\n",
       "<style scoped>\n",
       "    .dataframe tbody tr th:only-of-type {\n",
       "        vertical-align: middle;\n",
       "    }\n",
       "\n",
       "    .dataframe tbody tr th {\n",
       "        vertical-align: top;\n",
       "    }\n",
       "\n",
       "    .dataframe thead th {\n",
       "        text-align: right;\n",
       "    }\n",
       "</style>\n",
       "<table border=\"1\" class=\"dataframe\">\n",
       "  <thead>\n",
       "    <tr style=\"text-align: right;\">\n",
       "      <th></th>\n",
       "      <th>0</th>\n",
       "      <th>1</th>\n",
       "      <th>2</th>\n",
       "    </tr>\n",
       "  </thead>\n",
       "  <tbody>\n",
       "    <tr>\n",
       "      <th>Name</th>\n",
       "      <td>AAUSat-4</td>\n",
       "      <td>ABS-2</td>\n",
       "      <td>ABS-2A</td>\n",
       "    </tr>\n",
       "    <tr>\n",
       "      <th>Country</th>\n",
       "      <td>NR</td>\n",
       "      <td>NR</td>\n",
       "      <td>NR</td>\n",
       "    </tr>\n",
       "    <tr>\n",
       "      <th>Operator</th>\n",
       "      <td>University of Aalborg</td>\n",
       "      <td>Asia Broadcast Satellite Ltd.</td>\n",
       "      <td>Asia Broadcast Satellite Ltd.</td>\n",
       "    </tr>\n",
       "    <tr>\n",
       "      <th>OperatorCountry</th>\n",
       "      <td>Denmark</td>\n",
       "      <td>Multinational</td>\n",
       "      <td>Multinational</td>\n",
       "    </tr>\n",
       "    <tr>\n",
       "      <th>Users</th>\n",
       "      <td>Civil</td>\n",
       "      <td>Commercial</td>\n",
       "      <td>Commercial</td>\n",
       "    </tr>\n",
       "    <tr>\n",
       "      <th>Purpose</th>\n",
       "      <td>Earth Observation</td>\n",
       "      <td>Communications</td>\n",
       "      <td>Communications</td>\n",
       "    </tr>\n",
       "    <tr>\n",
       "      <th>PurposeDetail</th>\n",
       "      <td>Automatic Identification System (AIS)</td>\n",
       "      <td>NaN</td>\n",
       "      <td>NaN</td>\n",
       "    </tr>\n",
       "    <tr>\n",
       "      <th>OrbitClass</th>\n",
       "      <td>LEO</td>\n",
       "      <td>GEO</td>\n",
       "      <td>GEO</td>\n",
       "    </tr>\n",
       "    <tr>\n",
       "      <th>OrbitType</th>\n",
       "      <td>Sun-Synchronous</td>\n",
       "      <td>NaN</td>\n",
       "      <td>NaN</td>\n",
       "    </tr>\n",
       "    <tr>\n",
       "      <th>orbitLon_d</th>\n",
       "      <td>0.0</td>\n",
       "      <td>75.0</td>\n",
       "      <td>-75.0</td>\n",
       "    </tr>\n",
       "    <tr>\n",
       "      <th>Perigee_Km</th>\n",
       "      <td>442.0</td>\n",
       "      <td>35778.0</td>\n",
       "      <td>35700.0</td>\n",
       "    </tr>\n",
       "    <tr>\n",
       "      <th>Apogee_Km</th>\n",
       "      <td>687.0</td>\n",
       "      <td>35793.0</td>\n",
       "      <td>35700.0</td>\n",
       "    </tr>\n",
       "    <tr>\n",
       "      <th>e</th>\n",
       "      <td>0.0177</td>\n",
       "      <td>0.000178</td>\n",
       "      <td>0.0</td>\n",
       "    </tr>\n",
       "    <tr>\n",
       "      <th>Inclination</th>\n",
       "      <td>98.2</td>\n",
       "      <td>0.08</td>\n",
       "      <td>0.0</td>\n",
       "    </tr>\n",
       "    <tr>\n",
       "      <th>Period</th>\n",
       "      <td>95.9</td>\n",
       "      <td>1436.03</td>\n",
       "      <td>1436.1</td>\n",
       "    </tr>\n",
       "    <tr>\n",
       "      <th>LaunchMass</th>\n",
       "      <td>1</td>\n",
       "      <td>6330</td>\n",
       "      <td>1800</td>\n",
       "    </tr>\n",
       "    <tr>\n",
       "      <th>DryMass</th>\n",
       "      <td>NaN</td>\n",
       "      <td>NaN</td>\n",
       "      <td>NaN</td>\n",
       "    </tr>\n",
       "    <tr>\n",
       "      <th>Power</th>\n",
       "      <td>NaN</td>\n",
       "      <td>16000</td>\n",
       "      <td>NaN</td>\n",
       "    </tr>\n",
       "    <tr>\n",
       "      <th>Date</th>\n",
       "      <td>4/25/2016</td>\n",
       "      <td>2/6/2014</td>\n",
       "      <td>6/15/2016</td>\n",
       "    </tr>\n",
       "    <tr>\n",
       "      <th>Lifetime</th>\n",
       "      <td>NaN</td>\n",
       "      <td>15</td>\n",
       "      <td>15</td>\n",
       "    </tr>\n",
       "    <tr>\n",
       "      <th>Contractor</th>\n",
       "      <td>University of Aalborg</td>\n",
       "      <td>Space Systems/Loral</td>\n",
       "      <td>Boeing Satellite Systems</td>\n",
       "    </tr>\n",
       "    <tr>\n",
       "      <th>ContractorCountry</th>\n",
       "      <td>Denmark</td>\n",
       "      <td>USA</td>\n",
       "      <td>USA</td>\n",
       "    </tr>\n",
       "    <tr>\n",
       "      <th>LaunchSite</th>\n",
       "      <td>Guiana Space Center</td>\n",
       "      <td>Guiana Space Center</td>\n",
       "      <td>Cape Canaveral</td>\n",
       "    </tr>\n",
       "    <tr>\n",
       "      <th>LaunchVehicle</th>\n",
       "      <td>Soyuz 2.1a</td>\n",
       "      <td>Ariane  5 ECA</td>\n",
       "      <td>Falcon 9</td>\n",
       "    </tr>\n",
       "    <tr>\n",
       "      <th>COSPAR</th>\n",
       "      <td>2016-025E</td>\n",
       "      <td>2014-006A</td>\n",
       "      <td>2016-038A</td>\n",
       "    </tr>\n",
       "    <tr>\n",
       "      <th>NORAD</th>\n",
       "      <td>41460.0</td>\n",
       "      <td>39508.0</td>\n",
       "      <td>41588.0</td>\n",
       "    </tr>\n",
       "  </tbody>\n",
       "</table>\n",
       "</div>"
      ],
      "text/plain": [
       "                                                       0  \\\n",
       "Name                                            AAUSat-4   \n",
       "Country                                               NR   \n",
       "Operator                           University of Aalborg   \n",
       "OperatorCountry                                  Denmark   \n",
       "Users                                              Civil   \n",
       "Purpose                                Earth Observation   \n",
       "PurposeDetail      Automatic Identification System (AIS)   \n",
       "OrbitClass                                           LEO   \n",
       "OrbitType                                Sun-Synchronous   \n",
       "orbitLon_d                                           0.0   \n",
       "Perigee_Km                                         442.0   \n",
       "Apogee_Km                                          687.0   \n",
       "e                                                 0.0177   \n",
       "Inclination                                         98.2   \n",
       "Period                                              95.9   \n",
       "LaunchMass                                             1   \n",
       "DryMass                                              NaN   \n",
       "Power                                                NaN   \n",
       "Date                                           4/25/2016   \n",
       "Lifetime                                             NaN   \n",
       "Contractor                         University of Aalborg   \n",
       "ContractorCountry                                Denmark   \n",
       "LaunchSite                           Guiana Space Center   \n",
       "LaunchVehicle                                 Soyuz 2.1a   \n",
       "COSPAR                                         2016-025E   \n",
       "NORAD                                            41460.0   \n",
       "\n",
       "                                               1  \\\n",
       "Name                                       ABS-2   \n",
       "Country                                       NR   \n",
       "Operator           Asia Broadcast Satellite Ltd.   \n",
       "OperatorCountry                    Multinational   \n",
       "Users                                 Commercial   \n",
       "Purpose                           Communications   \n",
       "PurposeDetail                                NaN   \n",
       "OrbitClass                                   GEO   \n",
       "OrbitType                                    NaN   \n",
       "orbitLon_d                                  75.0   \n",
       "Perigee_Km                               35778.0   \n",
       "Apogee_Km                                35793.0   \n",
       "e                                       0.000178   \n",
       "Inclination                                 0.08   \n",
       "Period                                   1436.03   \n",
       "LaunchMass                                  6330   \n",
       "DryMass                                      NaN   \n",
       "Power                                      16000   \n",
       "Date                                    2/6/2014   \n",
       "Lifetime                                      15   \n",
       "Contractor                   Space Systems/Loral   \n",
       "ContractorCountry                            USA   \n",
       "LaunchSite                   Guiana Space Center   \n",
       "LaunchVehicle                      Ariane  5 ECA   \n",
       "COSPAR                                 2014-006A   \n",
       "NORAD                                    39508.0   \n",
       "\n",
       "                                               2  \n",
       "Name                                      ABS-2A  \n",
       "Country                                       NR  \n",
       "Operator           Asia Broadcast Satellite Ltd.  \n",
       "OperatorCountry                    Multinational  \n",
       "Users                                 Commercial  \n",
       "Purpose                           Communications  \n",
       "PurposeDetail                                NaN  \n",
       "OrbitClass                                   GEO  \n",
       "OrbitType                                    NaN  \n",
       "orbitLon_d                                 -75.0  \n",
       "Perigee_Km                               35700.0  \n",
       "Apogee_Km                                35700.0  \n",
       "e                                            0.0  \n",
       "Inclination                                  0.0  \n",
       "Period                                    1436.1  \n",
       "LaunchMass                                  1800  \n",
       "DryMass                                      NaN  \n",
       "Power                                        NaN  \n",
       "Date                                   6/15/2016  \n",
       "Lifetime                                      15  \n",
       "Contractor              Boeing Satellite Systems  \n",
       "ContractorCountry                            USA  \n",
       "LaunchSite                        Cape Canaveral  \n",
       "LaunchVehicle                           Falcon 9  \n",
       "COSPAR                                 2016-038A  \n",
       "NORAD                                    41588.0  "
      ]
     },
     "execution_count": 94,
     "metadata": {},
     "output_type": "execute_result"
    }
   ],
   "source": [
    "#Rename the columns to work easier\n",
    "colnames = ['Name','Country','Operator', 'OperatorCountry',\n",
    "'Users','Purpose','PurposeDetail','OrbitClass','OrbitType','orbitLon_d',\n",
    "'Perigee_Km','Apogee_Km','e','Inclination','Period','LaunchMass','DryMass','Power',\n",
    "'Date','Lifetime','Contractor','ContractorCountry','LaunchSite','LaunchVehicle','COSPAR','NORAD']\n",
    "\n",
    "data = pd.read_csv('satelliteDB.csv',names=colnames,header=0)\n",
    "data.head(3).T "
   ]
  },
  {
   "cell_type": "markdown",
   "metadata": {},
   "source": [
    "# Top 5 countries with launched satellites"
   ]
  },
  {
   "cell_type": "code",
   "execution_count": 95,
   "metadata": {},
   "outputs": [
    {
     "name": "stderr",
     "output_type": "stream",
     "text": [
      "/usr/local/Caskroom/miniconda/base/envs/bigdata/lib/python3.9/site-packages/seaborn/_decorators.py:36: FutureWarning: Pass the following variable as a keyword arg: x. From version 0.12, the only valid positional argument will be `data`, and passing other arguments without an explicit keyword will result in an error or misinterpretation.\n",
      "  warnings.warn(\n"
     ]
    },
    {
     "data": {
      "text/plain": [
       "Text(0, 0.5, 'Number of satellites')"
      ]
     },
     "execution_count": 95,
     "metadata": {},
     "output_type": "execute_result"
    },
    {
     "data": {
      "image/png": "[encoded data removed]",
      "text/plain": [
       "<Figure size 1008x432 with 1 Axes>"
      ]
     },
     "metadata": {
      "needs_background": "light"
     },
     "output_type": "display_data"
    }
   ],
   "source": [
    "fig, ax = plt.subplots(figsize=(14,6))\n",
    "sns.countplot(data['Country'], order = data.Country.value_counts().iloc[:5].index)\n",
    "\n",
    "plt.title(\"Top 5 countries with satellites on orbit\", fontdict = {'fontsize':20})\n",
    "plt.ylabel(\"Number of satellites\")"
   ]
  },
  {
   "cell_type": "markdown",
   "metadata": {},
   "source": [
    "# Top 5 Owners of Satellites"
   ]
  },
  {
   "cell_type": "code",
   "execution_count": 96,
   "metadata": {},
   "outputs": [
    {
     "name": "stderr",
     "output_type": "stream",
     "text": [
      "/usr/local/Caskroom/miniconda/base/envs/bigdata/lib/python3.9/site-packages/seaborn/_decorators.py:36: FutureWarning: Pass the following variable as a keyword arg: x. From version 0.12, the only valid positional argument will be `data`, and passing other arguments without an explicit keyword will result in an error or misinterpretation.\n",
      "  warnings.warn(\n"
     ]
    },
    {
     "data": {
      "text/plain": [
       "Text(0, 0.5, 'Number of satellites')"
      ]
     },
     "execution_count": 96,
     "metadata": {},
     "output_type": "execute_result"
    },
    {
     "data": {
      "image/png": "[encoded data removed]",
      "text/plain": [
       "<Figure size 1008x432 with 1 Axes>"
      ]
     },
     "metadata": {
      "needs_background": "light"
     },
     "output_type": "display_data"
    }
   ],
   "source": [
    "fig, ax = plt.subplots(figsize=(14,6))\n",
    "sns.countplot(data['Operator'], order = data.Operator.value_counts().iloc[:5].index)\n",
    "\n",
    "plt.title(\"Top 5 Satellites Operators\", fontdict = {'fontsize':20})\n",
    "plt.ylabel(\"Number of satellites\")"
   ]
  },
  {
   "cell_type": "markdown",
   "metadata": {},
   "source": [
    "\n",
    "comparar Country/Organization of UN Registry || Country of Operator/Owner\n",
    "lanzamientos por año\n",
    "sat con mayor y menos potencia\n",
    "lazamientos por año segun el proposito"
   ]
  },
  {
   "cell_type": "markdown",
   "metadata": {},
   "source": [
    "# Most Uses of Satellites"
   ]
  },
  {
   "cell_type": "code",
   "execution_count": 97,
   "metadata": {},
   "outputs": [
    {
     "data": {
      "text/plain": [
       "<AxesSubplot:title={'center':'Most uses of Satellites'}, xlabel='Use', ylabel='Quantity'>"
      ]
     },
     "execution_count": 97,
     "metadata": {},
     "output_type": "execute_result"
    },
    {
     "data": {
      "image/png": "[encoded data removed]",
      "text/plain": [
       "<Figure size 432x288 with 1 Axes>"
      ]
     },
     "metadata": {
      "needs_background": "light"
     },
     "output_type": "display_data"
    }
   ],
   "source": [
    "data['Users'].value_counts().head(5).plot(kind='bar',title='Most uses of Satellites',xlabel='Use',ylabel='Quantity')"
   ]
  },
  {
   "cell_type": "markdown",
   "metadata": {},
   "source": [
    "# Timeline of Satellites launches"
   ]
  },
  {
   "cell_type": "code",
   "execution_count": 100,
   "metadata": {},
   "outputs": [
    {
     "data": {
      "text/plain": [
       "<AxesSubplot:title={'center':'Number of sats'}, xlabel='year of launch', ylabel='Number lauched'>"
      ]
     },
     "execution_count": 100,
     "metadata": {},
     "output_type": "execute_result"
    },
    {
     "data": {
      "image/png": "[encoded data removed]",
      "text/plain": [
       "<Figure size 432x288 with 1 Axes>"
      ]
     },
     "metadata": {
      "needs_background": "light"
     },
     "output_type": "display_data"
    }
   ],
   "source": [
    "#we need to change the date type and work only with year\n",
    "new_column = []\n",
    "for i in data['Date']:\n",
    "    time = pd.to_datetime(i).year\n",
    "    new_column.append(time)\n",
    "data['year of launch'] = new_column #now we have the year in a separate column\n",
    "\n",
    "#group by year and then plot number of sats\n",
    "group_byear = data.groupby('year of launch')\n",
    "sat_year = group_byear.agg({'OperatorCountry':'nunique'}) #every country has its own counter of unique values\n",
    "sat_year['OperatorCountry'].plot(kind='line',title='Number of sats',ylabel='Number lauched',color='r')"
   ]
  },
  {
   "cell_type": "code",
   "execution_count": null,
   "metadata": {},
   "outputs": [],
   "source": [
    "#numero de satelites por pais\n",
    "\"\"\"group_satname = data.groupby('Country') #group by the country owner\n",
    "SatperCoun = group_satname.agg({'Name':'nunique'}) #every country has its own counter of unique values\n",
    "y = SatperCoun['Name']\n",
    "y = pd.DataFrame(y) #df with the number of sat and a index of every country\n",
    "\n",
    "y.plot(kind='barh',\n",
    "        title='Number of satellites per country',\n",
    "        figsize=(10,10),\n",
    "        legend=None,\n",
    "        xlabel='Country')\"\"\""
   ]
  },
  {
   "cell_type": "code",
   "execution_count": null,
   "metadata": {},
   "outputs": [],
   "source": []
  },
  {
   "cell_type": "code",
   "execution_count": null,
   "metadata": {},
   "outputs": [],
   "source": []
  }
 ],
 "metadata": {
  "interpreter": {
   "hash": "aee8b7b246df8f9039afb4144a1f6fd8d2ca17a180786b69acc140d282b71a49"
  },
  "kernelspec": {
   "display_name": "Python 3.9.7 64-bit",
   "language": "python",
   "name": "python3"
  },
  "language_info": {
   "codemirror_mode": {
    "name": "ipython",
    "version": 3
   },
   "file_extension": ".py",
   "mimetype": "text/x-python",
   "name": "python",
   "nbconvert_exporter": "python",
   "pygments_lexer": "ipython3",
   "version": "3.9.7"
  },
  "orig_nbformat": 4
 },
 "nbformat": 4,
 "nbformat_minor": 2
}
